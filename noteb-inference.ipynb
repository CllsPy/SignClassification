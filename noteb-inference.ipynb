{
  "nbformat": 4,
  "nbformat_minor": 0,
  "metadata": {
    "colab": {
      "private_outputs": true,
      "provenance": []
    },
    "kernelspec": {
      "name": "python3",
      "display_name": "Python 3"
    },
    "language_info": {
      "name": "python"
    }
  },
  "cells": [
    {
      "cell_type": "code",
      "execution_count": null,
      "metadata": {
        "id": "Z_xOzB5_iY-u"
      },
      "outputs": [],
      "source": [
        "import numpy as np\n",
        "from tensorflow.keras.utils import load_img, img_to_array\n",
        "import keras\n",
        "\n",
        "load = keras.models.load_model('/content/drive/MyDrive/Colab Notebooks/0. SignClass/0. SignClass.keras')\n",
        "\n",
        "letters = [chr(i) for i in range(ord('A'), ord('Z')+1) if i != ord('J')]  # Exclude 'J' (class 9)\n",
        "\n",
        "img = load_img('/content/2.png', color_mode='grayscale', target_size=(28, 28))\n",
        "img_array = img_to_array(img)\n",
        "img_array = np.expand_dims(img_array, axis=0)\n",
        "img_array = img_array / 255\n",
        "\n",
        "\n",
        "predicted_class_index = np.argmax(load.predict(img_array), axis=1)[0]\n",
        "\n",
        "predicted_letter = letters[predicted_class_index]\n",
        "\n",
        "print(f\"Predicted letter: {predicted_letter}\")\n"
      ]
    }
  ]
}